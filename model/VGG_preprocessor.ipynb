{
  "nbformat": 4,
  "nbformat_minor": 0,
  "metadata": {
    "colab": {
      "name": "VGG_preprocessor.ipynb",
      "provenance": [],
      "collapsed_sections": [],
      "machine_shape": "hm"
    },
    "language_info": {
      "codemirror_mode": {
        "name": "ipython",
        "version": 3
      },
      "file_extension": ".py",
      "mimetype": "text/x-python",
      "name": "python",
      "nbconvert_exporter": "python",
      "pygments_lexer": "ipython3",
      "version": "3.6.8"
    },
    "kernelspec": {
      "name": "python3",
      "display_name": "Python 3"
    },
    "accelerator": "GPU"
  },
  "cells": [
    {
      "cell_type": "markdown",
      "metadata": {
        "id": "UzaS--sKmKQ_",
        "colab_type": "text"
      },
      "source": [
        "# **VGG Preprocessor - Autonomous Vehicle Grand Theft Auto V**\n",
        "\n",
        "This notebook contains the input data preprocessor for VGG based model for autonomous vehicle project. It saves all processed data in Numpy arrays, so it can be used by the model."
      ]
    },
    {
      "cell_type": "markdown",
      "metadata": {
        "id": "5YkaN06onJJn",
        "colab_type": "text"
      },
      "source": [
        "Imports general purpose libraries"
      ]
    },
    {
      "cell_type": "code",
      "metadata": {
        "id": "BGzr-BkZtD2N",
        "colab_type": "code",
        "colab": {
          "base_uri": "https://localhost:8080/",
          "height": 82
        },
        "outputId": "372553b8-0883-4984-b844-989eff0f840c"
      },
      "source": [
        "import numpy as np\n",
        "import h5py\n",
        "import matplotlib.pyplot as plt\n",
        "import keras\n",
        "import shutil\n",
        "import os\n",
        "import random"
      ],
      "execution_count": null,
      "outputs": [
        {
          "output_type": "stream",
          "text": [
            "Using TensorFlow backend.\n"
          ],
          "name": "stderr"
        },
        {
          "output_type": "display_data",
          "data": {
            "text/html": [
              "<p style=\"color: red;\">\n",
              "The default version of TensorFlow in Colab will soon switch to TensorFlow 2.x.<br>\n",
              "We recommend you <a href=\"https://www.tensorflow.org/guide/migrate\" target=\"_blank\">upgrade</a> now \n",
              "or ensure your notebook will continue to use TensorFlow 1.x via the <code>%tensorflow_version 1.x</code> magic:\n",
              "<a href=\"https://colab.research.google.com/notebooks/tensorflow_version.ipynb\" target=\"_blank\">more info</a>.</p>\n"
            ],
            "text/plain": [
              "<IPython.core.display.HTML object>"
            ]
          },
          "metadata": {
            "tags": []
          }
        }
      ]
    },
    {
      "cell_type": "markdown",
      "metadata": {
        "id": "gyA5vggJn280",
        "colab_type": "text"
      },
      "source": [
        "## **Getting data**"
      ]
    },
    {
      "cell_type": "markdown",
      "metadata": {
        "id": "RefWAzf7nPg8",
        "colab_type": "text"
      },
      "source": [
        "Mounts Google Drive in Google Colab disk to get data"
      ]
    },
    {
      "cell_type": "code",
      "metadata": {
        "id": "I13Ga7NPCHQj",
        "colab_type": "code",
        "colab": {
          "base_uri": "https://localhost:8080/",
          "height": 126
        },
        "outputId": "7b0c6bf8-1f9d-47a8-8492-6ed39801f55f"
      },
      "source": [
        "from google.colab import drive\n",
        "drive.mount('/content/drive', force_remount=True)"
      ],
      "execution_count": null,
      "outputs": [
        {
          "output_type": "stream",
          "text": [
            "Go to this URL in a browser: https://accounts.google.com/o/oauth2/auth?client_id=947318989803-6bn6qk8qdgf4n4g3pfee6491hc0brc4i.apps.googleusercontent.com&redirect_uri=urn%3Aietf%3Awg%3Aoauth%3A2.0%3Aoob&scope=email%20https%3A%2F%2Fwww.googleapis.com%2Fauth%2Fdocs.test%20https%3A%2F%2Fwww.googleapis.com%2Fauth%2Fdrive%20https%3A%2F%2Fwww.googleapis.com%2Fauth%2Fdrive.photos.readonly%20https%3A%2F%2Fwww.googleapis.com%2Fauth%2Fpeopleapi.readonly&response_type=code\n",
            "\n",
            "Enter your authorization code:\n",
            "··········\n",
            "Mounted at /content/drive\n"
          ],
          "name": "stdout"
        }
      ]
    },
    {
      "cell_type": "markdown",
      "metadata": {
        "id": "cVEmFeAJnZ_j",
        "colab_type": "text"
      },
      "source": [
        "Loads all training data from Google Drive folder"
      ]
    },
    {
      "cell_type": "code",
      "metadata": {
        "id": "ggHpJn_fIJKO",
        "colab_type": "code",
        "colab": {
          "base_uri": "https://localhost:8080/",
          "height": 639
        },
        "outputId": "1a7813a7-1bd2-4a2a-8c4c-0385429af71f"
      },
      "source": [
        "Y=np.load('/content/drive/My Drive/Novos_Dados/YTreino0.npy')\n",
        "print(\"Arquivo 0 carregado\")\n",
        "for i in range(1,35):\n",
        "    Y=np.concatenate((Y, np.load('/content/drive/My Drive/Novos_Dados/YTreino'+str(i)+'.npy')))\n",
        "    print(\"Arquivo %d carregado\" %(i))\n",
        "\n",
        "V=np.zeros((len(Y)-50,50))\n",
        "for i in range(len(Y)-50):\n",
        "  V[i,:]=Y[i:i+50,3]\n",
        "V=V.reshape((len(V),1,50))\n",
        "Vnorm = np.divide(np.subtract(V, 53.5),28).reshape((len(V),1,50))"
      ],
      "execution_count": null,
      "outputs": [
        {
          "output_type": "stream",
          "text": [
            "Arquivo 0 carregado\n",
            "Arquivo 1 carregado\n",
            "Arquivo 2 carregado\n",
            "Arquivo 3 carregado\n",
            "Arquivo 4 carregado\n",
            "Arquivo 5 carregado\n",
            "Arquivo 6 carregado\n",
            "Arquivo 7 carregado\n",
            "Arquivo 8 carregado\n",
            "Arquivo 9 carregado\n",
            "Arquivo 10 carregado\n",
            "Arquivo 11 carregado\n",
            "Arquivo 12 carregado\n",
            "Arquivo 13 carregado\n",
            "Arquivo 14 carregado\n",
            "Arquivo 15 carregado\n",
            "Arquivo 16 carregado\n",
            "Arquivo 17 carregado\n",
            "Arquivo 18 carregado\n",
            "Arquivo 19 carregado\n",
            "Arquivo 20 carregado\n",
            "Arquivo 21 carregado\n",
            "Arquivo 22 carregado\n",
            "Arquivo 23 carregado\n",
            "Arquivo 24 carregado\n",
            "Arquivo 25 carregado\n",
            "Arquivo 26 carregado\n",
            "Arquivo 27 carregado\n",
            "Arquivo 28 carregado\n",
            "Arquivo 29 carregado\n",
            "Arquivo 30 carregado\n",
            "Arquivo 31 carregado\n",
            "Arquivo 32 carregado\n",
            "Arquivo 33 carregado\n",
            "Arquivo 34 carregado\n"
          ],
          "name": "stdout"
        }
      ]
    },
    {
      "cell_type": "code",
      "metadata": {
        "id": "u9h99c4pIM9_",
        "colab_type": "code",
        "colab": {
          "base_uri": "https://localhost:8080/",
          "height": 639
        },
        "outputId": "11cdf71c-105a-4678-9cee-3d19a85ce265"
      },
      "source": [
        "n_base=129565-50\n",
        "x = np.zeros((n_base,150,240,3),dtype='uint8')\n",
        "y=np.zeros((n_base,4))\n",
        "v=np.zeros((n_base,1,50))\n",
        "vn=np.zeros((n_base,1,50))\n",
        "\n",
        "soma_train=0\n",
        "n=0\n",
        "for i in range(0,35):\n",
        "  #Carrega\n",
        "  xi = np.load('/content/drive/My Drive/Novos_Dados/XTreino'+str(i)+'.npy')\n",
        "  yi = np.load('/content/drive/My Drive/Novos_Dados/YTreino'+str(i)+'.npy')\n",
        "  print(\"Arquivo \",i)\n",
        "  if i==0:\n",
        "    xi=xi[50:len(xi)]\n",
        "    yi=yi[50:len(yi)]\n",
        "  n=len(yi) \n",
        "\n",
        "  #Treino\n",
        "  x[soma_train:soma_train + n]= xi\n",
        "  y[soma_train:soma_train + n]= yi\n",
        "  v[soma_train:soma_train + n]= V[soma_train:soma_train + n]\n",
        "  vn[soma_train:soma_train + n]= Vnorm[soma_train:soma_train + n]\n",
        "\n",
        "  #Att\n",
        "  soma_train = soma_train + n"
      ],
      "execution_count": null,
      "outputs": [
        {
          "output_type": "stream",
          "text": [
            "Arquivo  0\n",
            "Arquivo  1\n",
            "Arquivo  2\n",
            "Arquivo  3\n",
            "Arquivo  4\n",
            "Arquivo  5\n",
            "Arquivo  6\n",
            "Arquivo  7\n",
            "Arquivo  8\n",
            "Arquivo  9\n",
            "Arquivo  10\n",
            "Arquivo  11\n",
            "Arquivo  12\n",
            "Arquivo  13\n",
            "Arquivo  14\n",
            "Arquivo  15\n",
            "Arquivo  16\n",
            "Arquivo  17\n",
            "Arquivo  18\n",
            "Arquivo  19\n",
            "Arquivo  20\n",
            "Arquivo  21\n",
            "Arquivo  22\n",
            "Arquivo  23\n",
            "Arquivo  24\n",
            "Arquivo  25\n",
            "Arquivo  26\n",
            "Arquivo  27\n",
            "Arquivo  28\n",
            "Arquivo  29\n",
            "Arquivo  30\n",
            "Arquivo  31\n",
            "Arquivo  32\n",
            "Arquivo  33\n",
            "Arquivo  34\n"
          ],
          "name": "stdout"
        }
      ]
    },
    {
      "cell_type": "code",
      "metadata": {
        "id": "1pFeTt2vbZLt",
        "colab_type": "code",
        "colab": {
          "base_uri": "https://localhost:8080/",
          "height": 408
        },
        "outputId": "158769e4-627f-4706-9327-53582f362f74"
      },
      "source": [
        "X=np.load('/content/drive/My Drive/Novos_Dados/XTreino0.npy')\n",
        "Y=np.load('/content/drive/My Drive/Novos_Dados/YTreino0.npy')\n",
        "print(\"Arquivo 0 carregado\")\n",
        "for i in range(1,23):\n",
        "    X=np.concatenate((X, np.load('/content/drive/My Drive/Novos_Dados/XTreino'+str(i)+'.npy')))\n",
        "    Y=np.concatenate((Y, np.load('/content/drive/My Drive/Novos_Dados/YTreino'+str(i)+'.npy')))\n",
        "    print(\"Arquivo %d carregado\" %(i))"
      ],
      "execution_count": null,
      "outputs": [
        {
          "output_type": "stream",
          "text": [
            "Arquivo 0 carregado\n",
            "Arquivo 1 carregado\n",
            "Arquivo 2 carregado\n",
            "Arquivo 3 carregado\n",
            "Arquivo 4 carregado\n",
            "Arquivo 5 carregado\n",
            "Arquivo 6 carregado\n",
            "Arquivo 7 carregado\n",
            "Arquivo 8 carregado\n",
            "Arquivo 9 carregado\n",
            "Arquivo 10 carregado\n",
            "Arquivo 11 carregado\n",
            "Arquivo 12 carregado\n",
            "Arquivo 13 carregado\n",
            "Arquivo 14 carregado\n",
            "Arquivo 15 carregado\n",
            "Arquivo 16 carregado\n",
            "Arquivo 17 carregado\n",
            "Arquivo 18 carregado\n",
            "Arquivo 19 carregado\n",
            "Arquivo 20 carregado\n",
            "Arquivo 21 carregado\n",
            "Arquivo 22 carregado\n"
          ],
          "name": "stdout"
        }
      ]
    },
    {
      "cell_type": "code",
      "metadata": {
        "id": "7Zt_7O-8p0d2",
        "colab_type": "code",
        "colab": {
          "base_uri": "https://localhost:8080/",
          "height": 34
        },
        "outputId": "9c9a5340-c29c-4123-dcf5-72e81f9b3d96"
      },
      "source": [
        "X.shape"
      ],
      "execution_count": null,
      "outputs": [
        {
          "output_type": "execute_result",
          "data": {
            "text/plain": [
              "(82536, 150, 240, 3)"
            ]
          },
          "metadata": {
            "tags": []
          },
          "execution_count": 4
        }
      ]
    },
    {
      "cell_type": "code",
      "metadata": {
        "id": "cqWkyeJGp5Mk",
        "colab_type": "code",
        "colab": {
          "base_uri": "https://localhost:8080/",
          "height": 34
        },
        "outputId": "00df7b55-69e9-496b-8700-cc7781b2a1fe"
      },
      "source": [
        "Y.shape"
      ],
      "execution_count": null,
      "outputs": [
        {
          "output_type": "execute_result",
          "data": {
            "text/plain": [
              "(82536, 4)"
            ]
          },
          "metadata": {
            "tags": []
          },
          "execution_count": 5
        }
      ]
    },
    {
      "cell_type": "markdown",
      "metadata": {
        "id": "SmJ2yGh5nxaF",
        "colab_type": "text"
      },
      "source": [
        "## **Building VGG-16 model**"
      ]
    },
    {
      "cell_type": "markdown",
      "metadata": {
        "id": "eFi8SuSeoPCs",
        "colab_type": "text"
      },
      "source": [
        "Imports Keras modules"
      ]
    },
    {
      "cell_type": "code",
      "metadata": {
        "id": "s8dm3EliYPyj",
        "colab_type": "code",
        "colab": {}
      },
      "source": [
        "from keras import models, Input\n",
        "from keras.layers import Input, Flatten, Dense, InputLayer, Dropout, Lambda\n",
        "from keras.models import load_model, Model\n",
        "from keras.layers import concatenate\n",
        "from keras.applications.vgg16 import VGG16 "
      ],
      "execution_count": null,
      "outputs": []
    },
    {
      "cell_type": "markdown",
      "metadata": {
        "id": "uGTpAFDNoo6T",
        "colab_type": "text"
      },
      "source": [
        "Loads pretrained VGG-16 model from Keras. This model was trained with ImageNet "
      ]
    },
    {
      "cell_type": "code",
      "metadata": {
        "id": "2Bmdb15cK42H",
        "colab_type": "code",
        "colab": {
          "base_uri": "https://localhost:8080/",
          "height": 428
        },
        "outputId": "c003033b-53d7-4a9a-fef2-a7521672f3d7"
      },
      "source": [
        "VGG = VGG16(include_top = False,input_shape = (150,240,3),  weights='imagenet')"
      ],
      "execution_count": null,
      "outputs": [
        {
          "output_type": "stream",
          "text": [
            "WARNING:tensorflow:From /usr/local/lib/python3.6/dist-packages/keras/backend/tensorflow_backend.py:66: The name tf.get_default_graph is deprecated. Please use tf.compat.v1.get_default_graph instead.\n",
            "\n",
            "WARNING:tensorflow:From /usr/local/lib/python3.6/dist-packages/keras/backend/tensorflow_backend.py:541: The name tf.placeholder is deprecated. Please use tf.compat.v1.placeholder instead.\n",
            "\n",
            "WARNING:tensorflow:From /usr/local/lib/python3.6/dist-packages/keras/backend/tensorflow_backend.py:4432: The name tf.random_uniform is deprecated. Please use tf.random.uniform instead.\n",
            "\n",
            "WARNING:tensorflow:From /usr/local/lib/python3.6/dist-packages/keras/backend/tensorflow_backend.py:4267: The name tf.nn.max_pool is deprecated. Please use tf.nn.max_pool2d instead.\n",
            "\n",
            "Downloading data from https://github.com/fchollet/deep-learning-models/releases/download/v0.1/vgg16_weights_tf_dim_ordering_tf_kernels_notop.h5\n",
            "58892288/58889256 [==============================] - 2s 0us/step\n",
            "WARNING:tensorflow:From /usr/local/lib/python3.6/dist-packages/keras/backend/tensorflow_backend.py:190: The name tf.get_default_session is deprecated. Please use tf.compat.v1.get_default_session instead.\n",
            "\n",
            "WARNING:tensorflow:From /usr/local/lib/python3.6/dist-packages/keras/backend/tensorflow_backend.py:197: The name tf.ConfigProto is deprecated. Please use tf.compat.v1.ConfigProto instead.\n",
            "\n",
            "WARNING:tensorflow:From /usr/local/lib/python3.6/dist-packages/keras/backend/tensorflow_backend.py:203: The name tf.Session is deprecated. Please use tf.compat.v1.Session instead.\n",
            "\n",
            "WARNING:tensorflow:From /usr/local/lib/python3.6/dist-packages/keras/backend/tensorflow_backend.py:207: The name tf.global_variables is deprecated. Please use tf.compat.v1.global_variables instead.\n",
            "\n",
            "WARNING:tensorflow:From /usr/local/lib/python3.6/dist-packages/keras/backend/tensorflow_backend.py:216: The name tf.is_variable_initialized is deprecated. Please use tf.compat.v1.is_variable_initialized instead.\n",
            "\n",
            "WARNING:tensorflow:From /usr/local/lib/python3.6/dist-packages/keras/backend/tensorflow_backend.py:223: The name tf.variables_initializer is deprecated. Please use tf.compat.v1.variables_initializer instead.\n",
            "\n"
          ],
          "name": "stdout"
        }
      ]
    },
    {
      "cell_type": "code",
      "metadata": {
        "id": "6vEphyucJUdS",
        "colab_type": "code",
        "colab": {
          "base_uri": "https://localhost:8080/",
          "height": 835
        },
        "outputId": "e4d1c9a6-1fba-4a26-94e6-2816dffaa388"
      },
      "source": [
        "VGG.summary()"
      ],
      "execution_count": null,
      "outputs": [
        {
          "output_type": "stream",
          "text": [
            "Model: \"vgg16\"\n",
            "_________________________________________________________________\n",
            "Layer (type)                 Output Shape              Param #   \n",
            "=================================================================\n",
            "input_1 (InputLayer)         (None, 150, 240, 3)       0         \n",
            "_________________________________________________________________\n",
            "block1_conv1 (Conv2D)        (None, 150, 240, 64)      1792      \n",
            "_________________________________________________________________\n",
            "block1_conv2 (Conv2D)        (None, 150, 240, 64)      36928     \n",
            "_________________________________________________________________\n",
            "block1_pool (MaxPooling2D)   (None, 75, 120, 64)       0         \n",
            "_________________________________________________________________\n",
            "block2_conv1 (Conv2D)        (None, 75, 120, 128)      73856     \n",
            "_________________________________________________________________\n",
            "block2_conv2 (Conv2D)        (None, 75, 120, 128)      147584    \n",
            "_________________________________________________________________\n",
            "block2_pool (MaxPooling2D)   (None, 37, 60, 128)       0         \n",
            "_________________________________________________________________\n",
            "block3_conv1 (Conv2D)        (None, 37, 60, 256)       295168    \n",
            "_________________________________________________________________\n",
            "block3_conv2 (Conv2D)        (None, 37, 60, 256)       590080    \n",
            "_________________________________________________________________\n",
            "block3_conv3 (Conv2D)        (None, 37, 60, 256)       590080    \n",
            "_________________________________________________________________\n",
            "block3_pool (MaxPooling2D)   (None, 18, 30, 256)       0         \n",
            "_________________________________________________________________\n",
            "block4_conv1 (Conv2D)        (None, 18, 30, 512)       1180160   \n",
            "_________________________________________________________________\n",
            "block4_conv2 (Conv2D)        (None, 18, 30, 512)       2359808   \n",
            "_________________________________________________________________\n",
            "block4_conv3 (Conv2D)        (None, 18, 30, 512)       2359808   \n",
            "_________________________________________________________________\n",
            "block4_pool (MaxPooling2D)   (None, 9, 15, 512)        0         \n",
            "_________________________________________________________________\n",
            "block5_conv1 (Conv2D)        (None, 9, 15, 512)        2359808   \n",
            "_________________________________________________________________\n",
            "block5_conv2 (Conv2D)        (None, 9, 15, 512)        2359808   \n",
            "_________________________________________________________________\n",
            "block5_conv3 (Conv2D)        (None, 9, 15, 512)        2359808   \n",
            "_________________________________________________________________\n",
            "block5_pool (MaxPooling2D)   (None, 4, 7, 512)         0         \n",
            "=================================================================\n",
            "Total params: 14,714,688\n",
            "Trainable params: 14,714,688\n",
            "Non-trainable params: 0\n",
            "_________________________________________________________________\n"
          ],
          "name": "stdout"
        }
      ]
    },
    {
      "cell_type": "markdown",
      "metadata": {
        "id": "N5Lws3wlo5tk",
        "colab_type": "text"
      },
      "source": [
        "Adds an input layer with 150x240x3 shape and a normalization layer before pretrained model and a flatten layer after it."
      ]
    },
    {
      "cell_type": "code",
      "metadata": {
        "id": "sIbgrdj0oz3a",
        "colab_type": "code",
        "colab": {}
      },
      "source": [
        "input_shape = (150, 240, 3)\n",
        "\n",
        "# Input\n",
        "input_tensor = Input(shape=input_shape)\n",
        "lamb = Lambda(lambda x: x/255., input_shape=input_shape, name='lambda_norm')(input_tensor)\n",
        "\n",
        "# Xcpetion\n",
        "x = VGG(lamb)\n",
        "x = Flatten()(x)\n",
        "\n",
        "#Model\n",
        "conv = Model(input_tensor, x)"
      ],
      "execution_count": null,
      "outputs": []
    },
    {
      "cell_type": "code",
      "metadata": {
        "id": "Vf3Y3rJCpAUE",
        "colab_type": "code",
        "colab": {
          "base_uri": "https://localhost:8080/",
          "height": 301
        },
        "outputId": "58078457-d7ba-41bf-f0d3-647d27e22009"
      },
      "source": [
        "conv.summary()"
      ],
      "execution_count": null,
      "outputs": [
        {
          "output_type": "stream",
          "text": [
            "Model: \"model_1\"\n",
            "_________________________________________________________________\n",
            "Layer (type)                 Output Shape              Param #   \n",
            "=================================================================\n",
            "input_2 (InputLayer)         (None, 150, 240, 3)       0         \n",
            "_________________________________________________________________\n",
            "lambda_norm (Lambda)         (None, 150, 240, 3)       0         \n",
            "_________________________________________________________________\n",
            "vgg16 (Model)                (None, 4, 7, 512)         14714688  \n",
            "_________________________________________________________________\n",
            "flatten_1 (Flatten)          (None, 14336)             0         \n",
            "=================================================================\n",
            "Total params: 14,714,688\n",
            "Trainable params: 14,714,688\n",
            "Non-trainable params: 0\n",
            "_________________________________________________________________\n"
          ],
          "name": "stdout"
        }
      ]
    },
    {
      "cell_type": "markdown",
      "metadata": {
        "id": "5cFZHzR9pZ8_",
        "colab_type": "text"
      },
      "source": [
        "## **Process data**"
      ]
    },
    {
      "cell_type": "markdown",
      "metadata": {
        "id": "66qMrZ1HpPOO",
        "colab_type": "text"
      },
      "source": [
        "Process all images in built model and generate outputs of shape (14336,)"
      ]
    },
    {
      "cell_type": "code",
      "metadata": {
        "id": "z3AWjv7IpJrl",
        "colab_type": "code",
        "colab": {}
      },
      "source": [
        "x_pred = conv.predict(x)"
      ],
      "execution_count": null,
      "outputs": []
    },
    {
      "cell_type": "code",
      "metadata": {
        "id": "a5XeBxLEsXL9",
        "colab_type": "code",
        "colab": {
          "base_uri": "https://localhost:8080/",
          "height": 35
        },
        "outputId": "8fb37563-e4d9-48ef-8ad1-6f32aadafeae"
      },
      "source": [
        "x_pred.shape"
      ],
      "execution_count": null,
      "outputs": [
        {
          "output_type": "execute_result",
          "data": {
            "text/plain": [
              "(129515, 14336)"
            ]
          },
          "metadata": {
            "tags": []
          },
          "execution_count": 15
        }
      ]
    },
    {
      "cell_type": "markdown",
      "metadata": {
        "id": "inZD-Lsopk-k",
        "colab_type": "text"
      },
      "source": [
        "Saves all processed data in numpy array to Google Drive folder"
      ]
    },
    {
      "cell_type": "code",
      "metadata": {
        "id": "barZ4UMzzzgw",
        "colab_type": "code",
        "colab": {}
      },
      "source": [
        "np.save(\"/content/drive/My Drive/Novos_Dados/vgg_pred_avg/vgg_pred_avg.npy\", x_pred)"
      ],
      "execution_count": null,
      "outputs": []
    },
    {
      "cell_type": "code",
      "metadata": {
        "id": "jLVUl-y8MOpx",
        "colab_type": "code",
        "colab": {}
      },
      "source": [
        "np.save('/content/drive/My Drive/Novos_Dados/vgg_pred_avg/y_vgg_pred_avg.npy',y)"
      ],
      "execution_count": null,
      "outputs": []
    },
    {
      "cell_type": "code",
      "metadata": {
        "id": "uNvBQUIyMYAm",
        "colab_type": "code",
        "colab": {}
      },
      "source": [
        "np.save('/content/drive/My Drive/Novos_Dados/vgg_pred_avg/vn_vgg_pred_avg.npy',vn)"
      ],
      "execution_count": null,
      "outputs": []
    }
  ]
}